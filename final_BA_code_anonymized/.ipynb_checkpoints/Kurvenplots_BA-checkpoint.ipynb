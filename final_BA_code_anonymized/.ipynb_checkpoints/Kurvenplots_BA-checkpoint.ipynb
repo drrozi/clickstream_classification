{
 "cells": [
  {
   "cell_type": "markdown",
   "id": "61754da8",
   "metadata": {},
   "source": [
    "# Kurvenplots"
   ]
  },
  {
   "cell_type": "code",
   "execution_count": null,
   "id": "5141269c",
   "metadata": {},
   "outputs": [],
   "source": [
    "import numpy as np\n",
    "import pandas as pd\n",
    "import matplotlib.pyplot as plt\n",
    "\n",
    "%matplotlib inline"
   ]
  },
  {
   "cell_type": "markdown",
   "id": "0a95a493",
   "metadata": {},
   "source": [
    "### Mausklicks ohne Tag des finalen Examens"
   ]
  },
  {
   "cell_type": "code",
   "execution_count": null,
   "id": "9752dc1d",
   "metadata": {},
   "outputs": [],
   "source": [
    "## 40020\n",
    "k1 = pd.read_csv(\"/home/drazan/Dokumente/TU Dortmund/Datenanalyse TU DO/Veranstaltungen/9_WiSe2022_23/Daten_BA/Kurse2/kurs40020_oFinalExamen.csv\")\n",
    "# -97 rausschmeissen\n",
    "k1 = k1.drop(k1[k1.final_result < 0].index)\n",
    "y_k1 = k1['final_result']\n",
    "X_k1 = k1.drop(['id', 'final_result', 'fem', 'fg', 'urm'], axis=1)\n",
    "## nur A und C-F behalten\n",
    "X_k1 = X_k1.drop(X_k1[(y_k1 > 6) & (y_k1 < 10)].index)\n",
    "\n",
    "##40040\n",
    "k2 = pd.read_csv(\"/home/drazan/Dokumente/TU Dortmund/Datenanalyse TU DO/Veranstaltungen/9_WiSe2022_23/Daten_BA/Kurse2/kurs40040_oFinalExamen.csv\")\n",
    "# -97 rausschmeissen\n",
    "k2 = k2.drop(k2[k2.final_result < 0].index)\n",
    "y_k2 = k2['final_result']\n",
    "X_k2 = k2.drop(['id', 'final_result', 'fem', 'fg', 'urm'], axis=1)\n",
    "## nur A und C-F behalten\n",
    "X_k2 = X_k2.drop(X_k2[(y_k2 > 6) & (y_k2 < 10)].index)\n",
    "\n",
    "##40060\n",
    "k3 = pd.read_csv(\"/home/drazan/Dokumente/TU Dortmund/Datenanalyse TU DO/Veranstaltungen/9_WiSe2022_23/Daten_BA/Kurse2/kurs40060_oFinalExamen.csv\")\n",
    "# -97 rausschmeissen\n",
    "k3 = k3.drop(k3[k3.final_result < 0].index)\n",
    "y_k3 = k3['final_result']\n",
    "X_k3 = k3.drop(['id', 'final_result', 'fem', 'fg', 'urm'], axis=1)\n",
    "## nur A und C-F behalten\n",
    "X_k3 = X_k3.drop(X_k3[(y_k3 > 6) & (y_k3 < 11)].index)\n",
    "\n",
    "##40080\n",
    "k4 = pd.read_csv(\"/home/drazan/Dokumente/TU Dortmund/Datenanalyse TU DO/Veranstaltungen/9_WiSe2022_23/Daten_BA/Kurse2/kurs40080_oFinalExamen.csv\")\n",
    "# -97 rausschmeissen\n",
    "k4 = k4.drop(k4[k4.final_result < 0].index)\n",
    "y_k4 = k4['final_result']\n",
    "X_k4 = k4.drop(['id', 'final_result', 'fem', 'fg', 'urm'], axis=1)\n",
    "## nur A und C-F behalten\n",
    "X_k4 = X_k4.drop(X_k4[(y_k4 > 6) & (y_k4 < 11)].index)"
   ]
  },
  {
   "cell_type": "code",
   "execution_count": null,
   "id": "ac53b475",
   "metadata": {},
   "outputs": [],
   "source": [
    "X_k1 = np.log1p(X_k1)\n",
    "X_k2 = np.log1p(X_k2)\n",
    "X_k3 = np.log1p(X_k3)\n",
    "X_k4 = np.log1p(X_k4)"
   ]
  },
  {
   "cell_type": "code",
   "execution_count": null,
   "id": "c6cc7182",
   "metadata": {},
   "outputs": [],
   "source": [
    "X_k4.max()"
   ]
  },
  {
   "cell_type": "code",
   "execution_count": null,
   "id": "0ecb61a6",
   "metadata": {},
   "outputs": [],
   "source": [
    "fig, axs = plt.subplots(4, 1, figsize=(8,6))\n",
    "fig.tight_layout(h_pad=1)\n",
    "\n",
    "X_k1[y_k1 > 9].transpose().plot(legend=False,  ax=axs[0], c='g', alpha=1,  \n",
    "                               )\n",
    "X_k1[y_k1 < 9].transpose().plot(legend=False, c='r',  ax=axs[0], alpha=0.2)\n",
    "axs[0].set_ylim([0, 7.5])\n",
    "axs[0].set_yticks([0,2,4,6])\n",
    "axs[0].set_title('K1')\n",
    "axs[0].set_xticks([0, 1,2,3,4,5,6,7,8,9,10,11])\n",
    "axs[0].get_xaxis().set_ticklabels([])\n",
    "axs[0].margins(x=0)\n",
    "\n",
    "\n",
    "X_k2[y_k2 > 9].transpose().plot(legend=False, ax=axs[1], c='g', alpha=1\n",
    "                               )\n",
    "X_k2[y_k2 < 9].transpose().plot(legend=False, ax=axs[1], c='r', alpha=0.2)\n",
    "axs[1].set_title('K2')\n",
    "axs[1].set_ylim([0, 7.5])\n",
    "axs[1].set_yticks([0,2,4,6])\n",
    "axs[1].set_xticks([0,1,2,3,4,5,6,7,8,9,10,11])\n",
    "axs[1].get_xaxis().set_ticklabels([])\n",
    "axs[1].margins(x=0)\n",
    "\n",
    "X_k3[y_k3 > 9].transpose().plot(legend=False, ax=axs[2], c='g', alpha=1\n",
    "                               )\n",
    "X_k3[y_k3 < 9].transpose().plot(legend=False, ax=axs[2], c='r', alpha=0.2)\n",
    "axs[2].set_title('K3')\n",
    "axs[2].set_ylim([0, 7.5])\n",
    "axs[2].set_yticks([0,2,4,6])\n",
    "axs[2].set_xticks([0, 1,2,3,4,5,6,7,8,9,10,11])\n",
    "axs[2].get_xaxis().set_ticklabels([])\n",
    "axs[2].margins(x=0)\n",
    "\n",
    "X_k4[y_k4 > 9].transpose().plot(legend=False, ax=axs[3], c='g', alpha=1\n",
    "                               )\n",
    "X_k4[y_k4 < 9].transpose().plot(legend=False, ax=axs[3], c='r', alpha=0.2)\n",
    "axs[3].set_title('K4')\n",
    "axs[3].set_ylim([0, 7.5])\n",
    "axs[3].set_yticks([0,2,4,6])\n",
    "axs[3].set_xticks([0, 1,2,3,4,5,6,7,8,9,10,11])\n",
    "axs[3].set_xticklabels(['1','2','3','4','5','6','7','8','9','10','11','12'])\n",
    "axs[3].margins(x=0)\n",
    "\n",
    "fig.add_subplot(111, frameon=False)\n",
    "plt.tick_params(labelcolor='none', which='both', top=False, bottom=False, left=False, right=False)\n",
    "plt.xlabel(\"Kurswochen\", size=16)\n",
    "plt.ylabel(\"Logarithmierte Anzahl Mausklicks\", size=16)\n",
    "\n",
    "plt.show()\n",
    "fig.savefig('/home/drazan/Dokumente/TU Dortmund/Datenanalyse TU DO/Veranstaltungen/9_WiSe2022_23/bachelor_thesis/figures/curves.pdf',\n",
    "            bbox_inches='tight')"
   ]
  },
  {
   "cell_type": "code",
   "execution_count": null,
   "id": "a9ddb3fd",
   "metadata": {},
   "outputs": [],
   "source": [
    "from matplotlib.lines import Line2D"
   ]
  },
  {
   "cell_type": "markdown",
   "id": "bffa64b8",
   "metadata": {},
   "source": [
    "### Plots nach Note (s. Legende). Plot 1: Von A nach F. Plot 2: von F nach A."
   ]
  },
  {
   "cell_type": "code",
   "execution_count": null,
   "id": "0d7b9607",
   "metadata": {},
   "outputs": [],
   "source": [
    "fig, axs = plt.subplots(figsize=(18,8))\n",
    "\n",
    "X_oE[y_oE > 10].transpose().plot(legend=False,ax=axs, c='g') # A+ und A\n",
    "X_oE[y_oE > 9].transpose().plot(legend=False, ax=axs, c='g')\n",
    "X_oE[(y_oE <= 9) & (y_oE >6)].transpose().plot(legend=False, ax=axs, c='b')\n",
    "X_oE[(y_oE <= 6) & (y_oE > 3)].transpose().plot(legend=False, ax=axs, c='y')\n",
    "X_oE[(y_oE < 4)].transpose().plot(legend=False, ax=axs, c='r')\n",
    "\n",
    "# middleCurves.plot(linewidth=6, marker='o',\n",
    "#                   markeredgecolor='k',\n",
    "#                   legend=False,\n",
    "#                   #color={'A':'green','B':'blue','C':'orange','Fail':'red'}, \n",
    "#                   ax=axs)\n",
    "\n",
    "colors = ['green', 'blue', 'yellow', 'red']\n",
    "lines = [Line2D([0], [0], color=c, linewidth=3, linestyle='-') for c in colors]\n",
    "labels =  ['A', 'B', 'C', 'D - F']\n",
    "fig.legend(lines, labels, loc='upper center', bbox_to_anchor=(0.5,0.85), prop={'size':14})\n",
    "\n",
    "axs.set_title('Curves colored by grades')\n",
    "#fig.savefig('/home/drazan/Dokumente/TU Dortmund/Datenanalyse TU DO/Veranstaltungen/9_WiSe2022_23/Exposeartiges/ClickNCluster5/plots/40020_curves_gradeAtoF.pdf')"
   ]
  },
  {
   "cell_type": "code",
   "execution_count": null,
   "id": "a905a15d",
   "metadata": {},
   "outputs": [],
   "source": [
    "# Einmal andersrum von F to A+\n",
    "fig, axs = plt.subplots(figsize=(18,8))\n",
    "\n",
    "X_oE[(y_oE < 4)].transpose().plot(legend=False, ax=axs, c='r')\n",
    "X_oE[(y_oE <= 6) & (y_oE > 3)].transpose().plot(legend=False, ax=axs, c='y')\n",
    "X_oE[(y_oE <= 9) & (y_oE >6)].transpose().plot(legend=False, ax=axs, c='b')\n",
    "X_oE[y_oE > 9].transpose().plot(legend=False, ax=axs, c='g')\n",
    "X_oE[y_oE > 10].transpose().plot(legend=False,ax=axs, c='g') # A+ und A\n",
    "\n",
    "# middleCurves.plot(linewidth=6, marker='o',\n",
    "#                   markeredgecolor='k',\n",
    "#                   legend=False,\n",
    "#                   #color={'A':'green','B':'blue','C':'orange','Fail':'red'}, \n",
    "#                   ax=axs)\n",
    "\n",
    "colors = ['green', 'blue', 'yellow', 'red']\n",
    "lines = [Line2D([0], [0], color=c, linewidth=3, linestyle='-') for c in colors]\n",
    "labels =  ['A', 'B', 'C', 'D - F']\n",
    "fig.legend(lines, labels, loc='upper center', bbox_to_anchor=(0.5,0.85), prop={'size':14})\n",
    "axs.set_ylim([0, 1200])\n",
    "\n",
    "axs.set_title('Curves colored by grades')\n",
    "#fig.savefig('/home/drazan/Dokumente/TU Dortmund/Datenanalyse TU DO/Veranstaltungen/9_WiSe2022_23/Exposeartiges/ClickNCluster5/plots/40020_curves_gradeFtoA.pdf')"
   ]
  },
  {
   "cell_type": "markdown",
   "id": "54dc09ab",
   "metadata": {},
   "source": [
    "Es lässt sich eindeutig erkennen, dass für alle Noten die Mausklicks auf einem ähnlichen Niveau sind. In Plot 2 überdecken die As den größten Teil der anderen Noten. Es lassen sich aber die Kurven der Studierenden mit schlechtern Noten im unteren Teil erkennen."
   ]
  },
  {
   "cell_type": "markdown",
   "id": "a8fc4f43",
   "metadata": {},
   "source": [
    "### Plot der B und C grades"
   ]
  },
  {
   "cell_type": "code",
   "execution_count": null,
   "id": "560e3193",
   "metadata": {},
   "outputs": [],
   "source": [
    "# Einmal andersrum von F to A+\n",
    "fig, axs = plt.subplots(figsize=(18,8))\n",
    "\n",
    "#X_oE[(y_oE < 4)].transpose().plot(legend=False, ax=axs, c='r')\n",
    "X_oE[(y_oE <= 6) & (y_oE > 3)].transpose().plot(legend=False, ax=axs, c='y')\n",
    "X_oE[(y_oE <= 9) & (y_oE >6)].transpose().plot(legend=False, ax=axs, c='b', alpha=0.1)\n",
    "#X_oE[y_oE > 9].transpose().plot(legend=False, ax=axs, c='g')\n",
    "#X_oE[y_oE > 10].transpose().plot(legend=False,ax=axs, c='g') # A+ und A\n",
    "\n",
    "# middleCurves.plot(linewidth=6, marker='o',\n",
    "#                   markeredgecolor='k',\n",
    "#                   legend=False,\n",
    "#                   #color={'A':'green','B':'blue','C':'orange','Fail':'red'}, \n",
    "#                   ax=axs)\n",
    "\n",
    "colors = ['green', 'blue', 'yellow', 'red']\n",
    "lines = [Line2D([0], [0], color=c, linewidth=3, linestyle='-') for c in colors]\n",
    "labels =  ['A', 'B', 'C', 'D - F']\n",
    "fig.legend(lines, labels, loc='upper center', bbox_to_anchor=(0.5,0.85), prop={'size':14})\n",
    "axs.set_ylim([0, 1200])\n",
    "\n",
    "axs.set_title('Curves colored by grades')\n",
    "#fig.savefig('/home/drazan/jupyterplots/40020_curves_gradeA+A.pdf')"
   ]
  },
  {
   "cell_type": "code",
   "execution_count": null,
   "id": "04de2e6e",
   "metadata": {},
   "outputs": [],
   "source": [
    "# Filtering warnings\n",
    "import warnings\n",
    "warnings.filterwarnings('ignore')\n",
    "warnings.simplefilter(action='ignore', category=FutureWarning)\n",
    "\n",
    "from sklearn.neighbors import KNeighborsClassifier\n",
    "from sklearn.model_selection import cross_val_score\n",
    "from sklearn.preprocessing import MinMaxScaler\n",
    "from sklearn.model_selection import cross_validate"
   ]
  },
  {
   "cell_type": "markdown",
   "id": "c2c5b57c",
   "metadata": {},
   "source": [
    "## 1-NN-Klassifikation von \"A+ und A\" vs. \"C+ und schlechter\""
   ]
  },
  {
   "cell_type": "code",
   "execution_count": null,
   "id": "4f40ff35",
   "metadata": {},
   "outputs": [],
   "source": [
    "alle_bin = alle.drop(alle[(alle.final_result > 6) & (alle.final_result < 11)].index)\n",
    "oEx_bin = oEx.drop(oEx[(oEx.final_result > 6) & (oEx.final_result < 11)].index)\n",
    "ofEx_bin = ofEx.drop(ofEx[(ofEx.final_result > 6) & (ofEx.final_result < 11)].index)"
   ]
  },
  {
   "cell_type": "code",
   "execution_count": null,
   "id": "1aa3696d",
   "metadata": {},
   "outputs": [],
   "source": [
    "print('Insgesamt sind es', len(alle_bin), \"Studierende.\")"
   ]
  },
  {
   "cell_type": "code",
   "execution_count": null,
   "id": "22985251",
   "metadata": {},
   "outputs": [],
   "source": [
    "y_alle = alle_bin.final_result\n",
    "X_alle = alle_bin.drop(['id', 'final_result', 'fem', 'fg', 'urm'], axis=1)\n",
    "\n",
    "y_oEx = oEx_bin.final_result\n",
    "X_oEx = oEx_bin.drop(['id', 'final_result', 'fem', 'fg', 'urm'], axis=1)\n",
    "\n",
    "y_ofEx = ofEx_bin.final_result\n",
    "X_ofEx = ofEx_bin.drop(['id', 'final_result', 'fem', 'fg', 'urm'], axis=1)"
   ]
  },
  {
   "cell_type": "code",
   "execution_count": null,
   "id": "d2044450",
   "metadata": {},
   "outputs": [],
   "source": [
    "# Logarithmieren\n",
    "X_allelog = np.log1p(X_alle)\n",
    "X_oExlog = np.log1p(X_oEx)\n",
    "X_ofExlog = np.log1p(X_ofEx)\n",
    "\n",
    "# Normalisieren\n",
    "X_allenorm = MinMaxScaler().fit_transform(X_alle) \n",
    "X_allenorm = pd.DataFrame(X_allenorm)\n",
    "\n",
    "X_oExnorm = MinMaxScaler().fit_transform(X_oEx) \n",
    "X_oExnorm = pd.DataFrame(X_oExnorm)\n",
    "\n",
    "X_ofExnorm = MinMaxScaler().fit_transform(X_ofEx) \n",
    "X_ofExnorm = pd.DataFrame(X_ofExnorm)"
   ]
  },
  {
   "cell_type": "markdown",
   "id": "e2b6a773",
   "metadata": {},
   "source": [
    "#### Logarithmierte Daten"
   ]
  },
  {
   "cell_type": "code",
   "execution_count": null,
   "id": "49274a8d",
   "metadata": {},
   "outputs": [],
   "source": [
    "X_ofExlog.head()"
   ]
  },
  {
   "cell_type": "markdown",
   "id": "09f4fa4c",
   "metadata": {},
   "source": [
    "#### Alle Noten unter A werden mit 0 codiert, alle anderen mit 1."
   ]
  },
  {
   "cell_type": "code",
   "execution_count": null,
   "id": "9a8bb78d",
   "metadata": {},
   "outputs": [],
   "source": [
    "# Zu binärem Problem machen\n",
    "y_alle[y_alle < 11] = 0\n",
    "y_alle[y_alle > 0] = 1\n",
    "\n",
    "y_oEx[y_oEx < 11] = 0\n",
    "y_oEx[y_oEx > 0] = 1\n",
    "\n",
    "y_ofEx[y_ofEx < 11] = 0\n",
    "y_ofEx[y_ofEx > 0] = 1"
   ]
  },
  {
   "cell_type": "code",
   "execution_count": null,
   "id": "786b7d1e",
   "metadata": {},
   "outputs": [],
   "source": [
    "y_ofEx.value_counts()"
   ]
  },
  {
   "cell_type": "code",
   "execution_count": null,
   "id": "2140ce1a",
   "metadata": {},
   "outputs": [],
   "source": [
    "import Fred as fred\n",
    "import math\n",
    "\n",
    "# Create own Distance Measures and import from Fred-Frechet\n",
    "\n",
    "# Discrete Frechet\n",
    "def disc_frechet(x, y):\n",
    "    a = fred.Curve(x)\n",
    "    b = fred.Curve(y)\n",
    "    dist = fred.discrete_frechet(a, b)\n",
    "    return dist.value\n",
    "\n",
    "# Discrete Dynamic Time Warping\n",
    "def disc_dtw(x, y):\n",
    "    a = fred.Curve(x)\n",
    "    b = fred.Curve(y)\n",
    "    dist = fred.discrete_dynamic_time_warping(a, b)\n",
    "    return dist.value\n",
    "\n",
    "# Discrete Dynamic Time Warping with traversal constraint\n",
    "def window_ddtw(x, y, w=4):\n",
    "    n = len(x)\n",
    "    m = len(y)\n",
    "\n",
    "    # maximal possible windowsize\n",
    "    w = max(w, abs(n-m))\n",
    "\n",
    "    # distancematrix filled with infinity\n",
    "    dtw = np.full((n, m), math.inf)\n",
    "    dtw[0, 0] = 0\n",
    "\n",
    "    # all possible paths filled with zeros\n",
    "    for i in range(1, n):\n",
    "        for j in range(max(1, i-w), min(m, i+w)):\n",
    "            cost = abs(x[i] - y[j])\n",
    "            dtw[i, j] = cost + min(dtw[i-1, j],\n",
    "                                   dtw[i, j-1],\n",
    "                                   dtw[i-1, j-1])\n",
    "\n",
    "    return dtw[n-1, m-1]\n",
    "\n",
    "# Discrete Frechet with traversal constraint\n",
    "def window_disc_frechet(x, y, w=4):\n",
    "    n = len(x)\n",
    "    m = len(y)\n",
    "\n",
    "    # maximal possible windowsize\n",
    "    w = max(w, abs(n-m))\n",
    "\n",
    "    # distancematrix filled with infinity\n",
    "    dfre = np.full((n, m), math.inf)\n",
    "    dfre[0, 0] = 0\n",
    "\n",
    "    # all possible paths filled with zeros\n",
    "    for i in range(1, n):\n",
    "        for j in range(max(1, i-w), min(m, i+w)):\n",
    "            cost = abs(x[i] - y[j])\n",
    "            dfre[i, j] = max(cost, min(dfre[i-1, j],\n",
    "                                       dfre[i, j-1],\n",
    "                                       dfre[i-1, j-1]))\n",
    "\n",
    "    return dfre[n-1, m-1]\n",
    "\n",
    "# k-greatest-distances-Mahnhattandistanz\n",
    "def k_greatest_manhattan(x, y, w=6):\n",
    "    dists = np.abs(x - y)\n",
    "    return np.sum(np.sort(dists)[-w:][::-1])\n",
    "\n",
    "\n",
    "# Earth mover's distance\n",
    "from scipy.stats import wasserstein_distance\n",
    "\n",
    "def emd(u, v):\n",
    "    # create bin-vectors\n",
    "    bin_u = [i for i in range(0, len(u))]\n",
    "    bin_v = [i for i in range(0, len(v))]\n",
    "    \n",
    "    # normalize input vectors to unit-vectors\n",
    "    u_norm = u / np.linalg.norm(u, ord=1)\n",
    "    v_norm = v / np.linalg.norm(v, ord=1)\n",
    "    \n",
    "    return wasserstein_distance(bin_u, bin_v, u_norm, v_norm)"
   ]
  },
  {
   "cell_type": "markdown",
   "id": "cc545440",
   "metadata": {},
   "source": [
    "## Auswertung"
   ]
  },
  {
   "cell_type": "markdown",
   "id": "0f42588b",
   "metadata": {},
   "source": [
    "## Alle clicks"
   ]
  },
  {
   "cell_type": "markdown",
   "id": "57cc49df",
   "metadata": {},
   "source": [
    "### Totale clicks"
   ]
  },
  {
   "cell_type": "code",
   "execution_count": null,
   "id": "40aa2c82",
   "metadata": {},
   "outputs": [],
   "source": [
    "distances = {'Manhattan':'cityblock', 'Euclidean': 'euclidean', 'Maximum': 'chebyshev',\n",
    "             'DF': disc_frechet, 'DTW': disc_dtw, 'WDF': window_disc_frechet, 'WDTW': window_ddtw,\n",
    "             'k_g_Manhattan': k_greatest_manhattan, 'EMD': emd\n",
    "                     }\n",
    "nachbar = 1\n",
    "scoring = ['accuracy', 'roc_auc', 'precision', 'recall', 'f1']\n",
    "\n",
    "df = pd.DataFrame(columns = ['distance', 'accuracy', 'roc_auc', 'precision', 'recall', 'f1'], \n",
    "                  index = [0,1,2,3,4,5,6,7,8])\n",
    " \n",
    "df['distance'] = distances\n",
    "\n",
    "row = 0\n",
    "for key, dist in distances.items():\n",
    "    knn = KNeighborsClassifier(n_neighbors=nachbar, metric=dist)\n",
    "    scores = cross_validate(knn, X_alle, y_alle, scoring=scoring, n_jobs=-1,\n",
    "                            cv=5, return_train_score=True)\n",
    "    score = [key, np.mean(scores['test_accuracy']), np.mean(scores['test_roc_auc']), \n",
    "             np.mean(scores['test_precision']), np.mean(scores['test_recall']), \n",
    "             np.mean(scores['test_f1'])]\n",
    "\n",
    "    df.loc[row, 0:] = score\n",
    "\n",
    "    row = row + 1\n",
    "\n",
    "#print(df.to_latex(index=False))\n",
    "df\n"
   ]
  },
  {
   "cell_type": "markdown",
   "id": "f539790f",
   "metadata": {},
   "source": [
    "### Logarithmierte clicks"
   ]
  },
  {
   "cell_type": "code",
   "execution_count": null,
   "id": "b3004a7f",
   "metadata": {},
   "outputs": [],
   "source": [
    "distances = {'Manhattan':'cityblock', 'Euclidean': 'euclidean', 'Maximum': 'chebyshev',\n",
    "             'DF': disc_frechet, 'DTW': disc_dtw, 'WDF': window_disc_frechet, 'WDTW': window_ddtw,\n",
    "             'k_g_Manhattan': k_greatest_manhattan, 'EMD': emd\n",
    "                     }\n",
    "nachbar = 1\n",
    "scoring = ['accuracy', 'roc_auc', 'precision', 'recall', 'f1']\n",
    "\n",
    "df = pd.DataFrame(columns = ['distance', 'accuracy', 'roc_auc', 'precision', 'recall', 'f1'], \n",
    "                  index = [0,1,2,3,4,5,6,7,8])\n",
    " \n",
    "df['distance'] = distances\n",
    "\n",
    "row = 0\n",
    "for key, dist in distances.items():\n",
    "    knn = KNeighborsClassifier(n_neighbors=nachbar, metric=dist)\n",
    "    scores = cross_validate(knn, X_allelog, y_alle, scoring=scoring, n_jobs=-1,\n",
    "                            cv=5, return_train_score=True)\n",
    "    score = [key, np.mean(scores['test_accuracy']), np.mean(scores['test_roc_auc']), \n",
    "             np.mean(scores['test_precision']), np.mean(scores['test_recall']), \n",
    "             np.mean(scores['test_f1'])]\n",
    "\n",
    "    df.loc[row, 0:] = score\n",
    "\n",
    "    row = row + 1\n",
    "\n",
    "#print(df.to_latex(index=False))\n",
    "df"
   ]
  },
  {
   "cell_type": "markdown",
   "id": "88e5284b",
   "metadata": {},
   "source": [
    "### Normalisierte clicks"
   ]
  },
  {
   "cell_type": "code",
   "execution_count": null,
   "id": "77d0ffb9",
   "metadata": {},
   "outputs": [],
   "source": [
    "distances = {'Manhattan':'cityblock', 'Euclidean': 'euclidean', 'Maximum': 'chebyshev',\n",
    "             'DF': disc_frechet, 'DTW': disc_dtw, 'WDF': window_disc_frechet, 'WDTW': window_ddtw,\n",
    "             'k_g_Manhattan': k_greatest_manhattan, 'EMD': emd\n",
    "                     }\n",
    "nachbar = 1\n",
    "scoring = ['accuracy', 'roc_auc', 'precision', 'recall', 'f1']\n",
    "\n",
    "df = pd.DataFrame(columns = ['distance', 'accuracy', 'roc_auc', 'precision', 'recall', 'f1'], \n",
    "                  index = [0,1,2,3,4,5,6,7,8])\n",
    " \n",
    "df['distance'] = distances\n",
    "\n",
    "row = 0\n",
    "for key, dist in distances.items():\n",
    "    knn = KNeighborsClassifier(n_neighbors=nachbar, metric=dist)\n",
    "    scores = cross_validate(knn, X_allenorm, y_alle, scoring=scoring, n_jobs=-1,\n",
    "                            cv=5, return_train_score=True)\n",
    "    score = [key, np.mean(scores['test_accuracy']), np.mean(scores['test_roc_auc']), \n",
    "             np.mean(scores['test_precision']), np.mean(scores['test_recall']), \n",
    "             np.mean(scores['test_f1'])]\n",
    "\n",
    "    df.loc[row, 0:] = score\n",
    "\n",
    "    row = row + 1\n",
    "\n",
    "#print(df.to_latex(index=False))\n",
    "df"
   ]
  },
  {
   "cell_type": "markdown",
   "id": "5c347e24",
   "metadata": {},
   "source": [
    "### z-Score"
   ]
  },
  {
   "cell_type": "code",
   "execution_count": null,
   "id": "14ee6b6d",
   "metadata": {},
   "outputs": [],
   "source": [
    "from scipy import stats"
   ]
  },
  {
   "cell_type": "code",
   "execution_count": null,
   "id": "8eba3713",
   "metadata": {},
   "outputs": [],
   "source": [
    "X_z = X_alle.apply(stats.zscore)"
   ]
  },
  {
   "cell_type": "code",
   "execution_count": null,
   "id": "d8acd9a8",
   "metadata": {},
   "outputs": [],
   "source": [
    "X_z[:5].transpose().plot(legend=False, c='k')"
   ]
  },
  {
   "cell_type": "code",
   "execution_count": null,
   "id": "1e1a652d",
   "metadata": {},
   "outputs": [],
   "source": [
    "distances = {'Manhattan':'cityblock', 'Euclidean': 'euclidean', 'Maximum': 'chebyshev',\n",
    "             'DF': disc_frechet, 'DTW': disc_dtw, 'WDF': window_disc_frechet, 'WDTW': window_ddtw,\n",
    "             'k_g_Manhattan': k_greatest_manhattan, #'EMD': emd\n",
    "                     }\n",
    "nachbar = 1\n",
    "scoring = ['accuracy', 'roc_auc', 'precision', 'recall', 'f1']\n",
    "\n",
    "df = pd.DataFrame(columns = ['distance', 'accuracy', 'roc_auc', 'precision', 'recall', 'f1'], \n",
    "                  index = [0,1,2,3,4,5,6,7,8])\n",
    " \n",
    "df['distance'] = distances\n",
    "\n",
    "row = 0\n",
    "for key, dist in distances.items():\n",
    "    knn = KNeighborsClassifier(n_neighbors=nachbar, metric=dist)\n",
    "    scores = cross_validate(knn, X_z, y_alle, scoring=scoring, n_jobs=-1,\n",
    "                            cv=5, return_train_score=True)\n",
    "    score = [key, np.mean(scores['test_accuracy']), np.mean(scores['test_roc_auc']), \n",
    "             np.mean(scores['test_precision']), np.mean(scores['test_recall']), \n",
    "             np.mean(scores['test_f1'])]\n",
    "\n",
    "    df.loc[row, 0:] = score\n",
    "\n",
    "    row = row + 1\n",
    "\n",
    "#print(df.to_latex(index=False))\n",
    "df"
   ]
  },
  {
   "cell_type": "markdown",
   "id": "d3cf14a8",
   "metadata": {},
   "source": [
    "Standardisierung ändert nichts; nach Keogh ein Zeichen dafür, dass hier kein adäquates Problem für die Anwendung von DTW vorliegt"
   ]
  },
  {
   "cell_type": "markdown",
   "id": "ad89c93f",
   "metadata": {},
   "source": [
    "## Ohne Examinatage"
   ]
  },
  {
   "cell_type": "markdown",
   "id": "fc072585",
   "metadata": {},
   "source": [
    "### Totale clicks"
   ]
  },
  {
   "cell_type": "code",
   "execution_count": null,
   "id": "73eb4e78",
   "metadata": {},
   "outputs": [],
   "source": [
    "distances = {'Manhattan':'cityblock', 'Euclidean': 'euclidean', 'Maximum': 'chebyshev',\n",
    "             'DF': disc_frechet, 'DTW': disc_dtw, 'WDF': window_disc_frechet, 'WDTW': window_ddtw,\n",
    "             'k_g_Manhattan': k_greatest_manhattan, 'EMD': emd\n",
    "                     }\n",
    "nachbar = 1\n",
    "scoring = ['accuracy', 'roc_auc', 'precision', 'recall', 'f1']\n",
    "\n",
    "df = pd.DataFrame(columns = ['distance', 'accuracy', 'roc_auc', 'precision', 'recall', 'f1'], \n",
    "                  index = [0,1,2,3,4,5,6,7,8])\n",
    " \n",
    "df['distance'] = distances\n",
    "\n",
    "row = 0\n",
    "for key, dist in distances.items():\n",
    "    knn = KNeighborsClassifier(n_neighbors=nachbar, metric=dist)\n",
    "    scores = cross_validate(knn, X_oEx, y_oEx, scoring=scoring, n_jobs=-1,\n",
    "                            cv=5, return_train_score=True)\n",
    "    score = [key, np.mean(scores['test_accuracy']), np.mean(scores['test_roc_auc']), \n",
    "             np.mean(scores['test_precision']), np.mean(scores['test_recall']), \n",
    "             np.mean(scores['test_f1'])]\n",
    "\n",
    "    df.loc[row, 0:] = score\n",
    "\n",
    "    row = row + 1\n",
    "\n",
    "#print(df.to_latex(index=False))\n",
    "df"
   ]
  },
  {
   "cell_type": "markdown",
   "id": "79efd2b6",
   "metadata": {},
   "source": [
    "### Logarithmierte clicks"
   ]
  },
  {
   "cell_type": "code",
   "execution_count": null,
   "id": "12e84c7f",
   "metadata": {},
   "outputs": [],
   "source": [
    "distances = {'Manhattan':'cityblock', 'Euclidean': 'euclidean', 'Maximum': 'chebyshev',\n",
    "             'DF': disc_frechet, 'DTW': disc_dtw, 'WDF': window_disc_frechet, 'WDTW': window_ddtw,\n",
    "             'k_g_Manhattan': k_greatest_manhattan, 'EMD': emd\n",
    "                     }\n",
    "nachbar = 1\n",
    "scoring = ['accuracy', 'roc_auc', 'precision', 'recall', 'f1']\n",
    "\n",
    "df = pd.DataFrame(columns = ['distance', 'accuracy', 'roc_auc', 'precision', 'recall', 'f1'], \n",
    "                  index = [0,1,2,3,4,5,6,7,8])\n",
    " \n",
    "df['distance'] = distances\n",
    "\n",
    "row = 0\n",
    "for key, dist in distances.items():\n",
    "    knn = KNeighborsClassifier(n_neighbors=nachbar, metric=dist)\n",
    "    scores = cross_validate(knn, X_oExlog, y_oEx, scoring=scoring, n_jobs=-1,\n",
    "                            cv=5, return_train_score=True)\n",
    "    score = [key, np.mean(scores['test_accuracy']), np.mean(scores['test_roc_auc']), \n",
    "             np.mean(scores['test_precision']), np.mean(scores['test_recall']), \n",
    "             np.mean(scores['test_f1'])]\n",
    "\n",
    "    df.loc[row, 0:] = score\n",
    "\n",
    "    row = row + 1\n",
    "\n",
    "#print(df.to_latex(index=False))\n",
    "df"
   ]
  },
  {
   "cell_type": "markdown",
   "id": "6df66936",
   "metadata": {},
   "source": [
    "### Normalisierte clicks"
   ]
  },
  {
   "cell_type": "code",
   "execution_count": null,
   "id": "2cdb0f81",
   "metadata": {},
   "outputs": [],
   "source": [
    "distances = {'Manhattan':'cityblock', 'Euclidean': 'euclidean', 'Maximum': 'chebyshev',\n",
    "             'DF': disc_frechet, 'DTW': disc_dtw, 'WDF': window_disc_frechet, 'WDTW': window_ddtw,\n",
    "             'k_g_Manhattan': k_greatest_manhattan, 'EMD': emd\n",
    "                     }\n",
    "nachbar = 1\n",
    "scoring = ['accuracy', 'roc_auc', 'precision', 'recall', 'f1']\n",
    "\n",
    "df = pd.DataFrame(columns = ['distance', 'accuracy', 'roc_auc', 'precision', 'recall', 'f1'], \n",
    "                  index = [0,1,2,3,4,5,6,7,8])\n",
    " \n",
    "df['distance'] = distances\n",
    "\n",
    "row = 0\n",
    "for key, dist in distances.items():\n",
    "    knn = KNeighborsClassifier(n_neighbors=nachbar, metric=dist)\n",
    "    scores = cross_validate(knn, X_oExnorm, y_oEx, scoring=scoring, n_jobs=-1,\n",
    "                            cv=5, return_train_score=True)\n",
    "    score = [key, np.mean(scores['test_accuracy']), np.mean(scores['test_roc_auc']), \n",
    "             np.mean(scores['test_precision']), np.mean(scores['test_recall']), \n",
    "             np.mean(scores['test_f1'])]\n",
    "\n",
    "    df.loc[row, 0:] = score\n",
    "\n",
    "    row = row + 1\n",
    "\n",
    "#print(df.to_latex(index=False))\n",
    "df"
   ]
  },
  {
   "cell_type": "markdown",
   "id": "3d6f9564",
   "metadata": {},
   "source": [
    "## Ohne finales Examen"
   ]
  },
  {
   "cell_type": "markdown",
   "id": "aa118f70",
   "metadata": {},
   "source": [
    "### Totale clicks"
   ]
  },
  {
   "cell_type": "code",
   "execution_count": null,
   "id": "27b12b3b",
   "metadata": {},
   "outputs": [],
   "source": [
    "distances = {'Manhattan':'cityblock', 'Euclidean': 'euclidean', 'Maximum': 'chebyshev',\n",
    "             'DF': disc_frechet, 'DTW': disc_dtw, 'WDF': window_disc_frechet, 'WDTW': window_ddtw,\n",
    "             'k_g_Manhattan': k_greatest_manhattan, 'EMD': emd\n",
    "                     }\n",
    "nachbar = 1\n",
    "scoring = ['accuracy', 'roc_auc', 'precision', 'recall', 'f1']\n",
    "\n",
    "df = pd.DataFrame(columns = ['distance', 'accuracy', 'roc_auc', 'precision', 'recall', 'f1'], \n",
    "                  index = [0,1,2,3,4,5,6,7,8])\n",
    " \n",
    "df['distance'] = distances\n",
    "\n",
    "row = 0\n",
    "for key, dist in distances.items():\n",
    "    knn = KNeighborsClassifier(n_neighbors=nachbar, metric=dist)\n",
    "    scores = cross_validate(knn, X_ofEx, y_ofEx, scoring=scoring, n_jobs=-1,\n",
    "                            cv=5, return_train_score=True)\n",
    "    score = [key, np.mean(scores['test_accuracy']), np.mean(scores['test_roc_auc']), \n",
    "             np.mean(scores['test_precision']), np.mean(scores['test_recall']), \n",
    "             np.mean(scores['test_f1'])]\n",
    "\n",
    "    df.loc[row, 0:] = score\n",
    "\n",
    "    row = row + 1\n",
    "\n",
    "#print(df.to_latex(index=False))\n",
    "df"
   ]
  },
  {
   "cell_type": "markdown",
   "id": "89635a42",
   "metadata": {},
   "source": [
    "### Logarithmierte clicks"
   ]
  },
  {
   "cell_type": "code",
   "execution_count": null,
   "id": "4e79784a",
   "metadata": {},
   "outputs": [],
   "source": [
    "distances = {'Manhattan':'cityblock', 'Euclidean': 'euclidean', 'Maximum': 'chebyshev',\n",
    "             'DF': disc_frechet, 'DTW': disc_dtw, 'WDF': window_disc_frechet, 'WDTW': window_ddtw,\n",
    "             'k_g_Manhattan': k_greatest_manhattan, 'EMD': emd\n",
    "                     }\n",
    "nachbar = 1\n",
    "scoring = ['accuracy', 'roc_auc', 'precision', 'recall', 'f1']\n",
    "\n",
    "df = pd.DataFrame(columns = ['distance', 'accuracy', 'roc_auc', 'precision', 'recall', 'f1'], \n",
    "                  index = [0,1,2,3,4,5,6,7,8])\n",
    " \n",
    "df['distance'] = distances\n",
    "\n",
    "row = 0\n",
    "for key, dist in distances.items():\n",
    "    knn = KNeighborsClassifier(n_neighbors=nachbar, metric=dist)\n",
    "    scores = cross_validate(knn, X_ofExlog, y_ofEx, scoring=scoring, n_jobs=-1,\n",
    "                            cv=5, return_train_score=True)\n",
    "    score = [key, np.mean(scores['test_accuracy']), np.mean(scores['test_roc_auc']), \n",
    "             np.mean(scores['test_precision']), np.mean(scores['test_recall']), \n",
    "             np.mean(scores['test_f1'])]\n",
    "\n",
    "    df.loc[row, 0:] = score\n",
    "\n",
    "    row = row + 1\n",
    "\n",
    "#print(df.to_latex(index=False))\n",
    "df"
   ]
  },
  {
   "cell_type": "code",
   "execution_count": null,
   "id": "8bd48582",
   "metadata": {},
   "outputs": [],
   "source": [
    "df = pd.DataFrame(columns = ['window', 'accuracy', 'roc_auc', 'precision', 'recall', 'f1'], \n",
    "                  index = [0,1,2,3,4,5,6,7,8,9,10,11])\n",
    " \n",
    "df['window'] = [0,1,2,3,4,5,6,7,8,9,10,11]\n",
    "scoring = ['accuracy', 'roc_auc', 'precision', 'recall', 'f1']\n",
    "\n",
    "for i in range(0,12):\n",
    "    knn = KNeighborsClassifier(n_neighbors=nachbar, metric=window_ddtw, metric_params={'w': i})\n",
    "    scores = cross_validate(knn, X_ofExlog, y_ofEx, scoring=scoring, n_jobs=-1,\n",
    "                            cv=5, return_train_score=True)\n",
    "    score = [i,np.mean(scores['test_accuracy']), np.mean(scores['test_roc_auc']), \n",
    "             np.mean(scores['test_precision']), np.mean(scores['test_recall']), \n",
    "             np.mean(scores['test_f1'])]\n",
    "    df.loc[i, 0:] = score\n",
    "\n",
    "#print(df.to_latex(index=False))\n",
    "df"
   ]
  },
  {
   "cell_type": "markdown",
   "id": "450741a8",
   "metadata": {},
   "source": [
    "### Normalisierte clicks"
   ]
  },
  {
   "cell_type": "code",
   "execution_count": null,
   "id": "54aa6e74",
   "metadata": {},
   "outputs": [],
   "source": [
    "distances = {'Manhattan':'cityblock', 'Euclidean': 'euclidean', 'Maximum': 'chebyshev',\n",
    "             'DF': disc_frechet, 'DTW': disc_dtw, 'WDF': window_disc_frechet, 'WDTW': window_ddtw,\n",
    "             'k_g_Manhattan': k_greatest_manhattan, 'EMD': emd\n",
    "                     }\n",
    "nachbar = 1\n",
    "scoring = ['accuracy', 'roc_auc', 'precision', 'recall', 'f1']\n",
    "\n",
    "df = pd.DataFrame(columns = ['distance', 'accuracy', 'roc_auc', 'precision', 'recall', 'f1'], \n",
    "                  index = [0,1,2,3,4,5,6,7,8])\n",
    " \n",
    "df['distance'] = distances\n",
    "\n",
    "row = 0\n",
    "for key, dist in distances.items():\n",
    "    knn = KNeighborsClassifier(n_neighbors=nachbar, metric=dist)\n",
    "    scores = cross_validate(knn, X_ofExnorm, y_ofEx, scoring=scoring, n_jobs=-1,\n",
    "                            cv=5, return_train_score=True)\n",
    "    score = [key, np.mean(scores['test_accuracy']), np.mean(scores['test_roc_auc']), \n",
    "             np.mean(scores['test_precision']), np.mean(scores['test_recall']), \n",
    "             np.mean(scores['test_f1'])]\n",
    "\n",
    "    df.loc[row, 0:] = score\n",
    "\n",
    "    row = row + 1\n",
    "\n",
    "#print(df.to_latex(index=False))\n",
    "df"
   ]
  },
  {
   "cell_type": "markdown",
   "id": "e82ea37f",
   "metadata": {},
   "source": [
    "# Weitere Ansätze"
   ]
  },
  {
   "cell_type": "markdown",
   "id": "548f304b",
   "metadata": {},
   "source": [
    "## Mittelwertkurven"
   ]
  },
  {
   "cell_type": "code",
   "execution_count": null,
   "id": "1b0feb05",
   "metadata": {},
   "outputs": [],
   "source": [
    "#dt = alle.drop(['id', 'fem', 'fg', 'urm'], axis=1) ## Alle clicks\n",
    "dt = oEx.drop(['id', 'fem', 'fg', 'urm'], axis=1) ## Ohne Examensclicks"
   ]
  },
  {
   "cell_type": "code",
   "execution_count": null,
   "id": "1bb29726",
   "metadata": {},
   "outputs": [],
   "source": [
    "mA = pd.Series(dt[dt.final_result > 9].mean(), name='A')\n",
    "mB = pd.Series(dt[(dt.final_result <= 9) & (dt.final_result > 6)].mean(), name = 'B')\n",
    "mC = pd.Series(dt[(dt.final_result <= 6) &(dt.final_result > 3)].mean(), name = 'C')\n",
    "mF = pd.Series(dt[dt.final_result < 4].mean(), name = 'Fail')\n",
    "\n",
    "\n",
    "middleCurves = pd.concat([mA, mB, mC, mF], axis=1)\n",
    "middleCurves = middleCurves.drop('final_result')"
   ]
  },
  {
   "cell_type": "code",
   "execution_count": null,
   "id": "7fd2c636",
   "metadata": {},
   "outputs": [],
   "source": [
    "fig, axs = plt.subplots(figsize=(12,4))\n",
    "middleCurves.plot(color={'A':'green','B':'blue','C':'orange','Fail':'red'}, ax=axs)"
   ]
  },
  {
   "cell_type": "code",
   "execution_count": null,
   "id": "e8ab5f1a",
   "metadata": {},
   "outputs": [],
   "source": [
    "fig, axs = plt.subplots(figsize=(12,8))\n",
    "X_oE.transpose().plot(legend=False, alpha=0.1, ax=axs, c='k')\n",
    "middleCurves.plot(color={'A':'green','B':'blue','C':'orange','Fail':'red'}, ax=axs)\n",
    "\n",
    "axs.set_ylim([0, 1100])"
   ]
  },
  {
   "cell_type": "markdown",
   "id": "a9cd92a9",
   "metadata": {},
   "source": [
    "## Median-Kurven"
   ]
  },
  {
   "cell_type": "code",
   "execution_count": null,
   "id": "b22e6d4a",
   "metadata": {},
   "outputs": [],
   "source": [
    "medA = pd.Series(dt[dt.final_result > 9].median(), name='A')\n",
    "medB = pd.Series(dt[(dt.final_result <= 9) & (dt.final_result > 6)].median(), name = 'B')\n",
    "medC = pd.Series(dt[(dt.final_result <= 6) &(dt.final_result > 3)].median(), name = 'C')\n",
    "medF = pd.Series(dt[dt.final_result < 4].median(), name = 'Fail')\n",
    "\n",
    "\n",
    "medianCurves = pd.concat([medA, medB, medC, medF], axis=1)\n",
    "medianCurves = medianCurves.drop('final_result')"
   ]
  },
  {
   "cell_type": "code",
   "execution_count": null,
   "id": "af939d99",
   "metadata": {},
   "outputs": [],
   "source": [
    "fig, axs = plt.subplots(figsize=(12,4))\n",
    "medianCurves.plot(color={'A':'green','B':'blue','C':'orange','Fail':'red'}, ax=axs)"
   ]
  },
  {
   "cell_type": "markdown",
   "id": "cecf2ddc",
   "metadata": {},
   "source": [
    "## Nearest Neighbour-Klassifikation anhand der Mittelwertkurven. Multiklassen A, B, C, D und F"
   ]
  },
  {
   "cell_type": "code",
   "execution_count": null,
   "id": "2a7143dd",
   "metadata": {},
   "outputs": [],
   "source": [
    "grade = ['A', 'B', 'C', 'Fail']\n",
    "nachbar=1\n",
    "knn = KNeighborsClassifier(n_neighbors=nachbar, metric='euclidean').fit(middleCurves.transpose(), grade)"
   ]
  },
  {
   "cell_type": "code",
   "execution_count": null,
   "id": "396df143",
   "metadata": {},
   "outputs": [],
   "source": [
    "#kurven_grade = alle.final_result\n",
    "#kurven = alle.drop(['id', 'final_result', 'fem', 'fg', 'urm'], axis=1)\n",
    "kurven_grade = oEx.final_result\n",
    "kurven = oEx.drop(['id', 'final_result', 'fem', 'fg', 'urm'], axis=1)"
   ]
  },
  {
   "cell_type": "code",
   "execution_count": null,
   "id": "450c7e89",
   "metadata": {},
   "outputs": [],
   "source": [
    "y_bined = np.array([])\n",
    "for k in kurven_grade:\n",
    "    if k in [0, 1, 2, 3]: \n",
    "        y_bined = np.append(y_bined, 'F')\n",
    "    elif k in [4, 5, 6]:\n",
    "        y_bined = np.append(y_bined, 'C')\n",
    "    elif k in [7, 8, 9]:\n",
    "        y_bined = np.append(y_bined, 'B')\n",
    "    elif k in [10, 11, 12]:\n",
    "        y_bined = np.append(y_bined, 'A')\n",
    "np.unique(y_bined)"
   ]
  },
  {
   "cell_type": "code",
   "execution_count": null,
   "id": "7adcd20b",
   "metadata": {},
   "outputs": [],
   "source": [
    "vorhersage = np.array([])\n",
    "for index, row in kurven.iterrows():\n",
    "    vorhersage = np.append(vorhersage, knn.predict([row]))"
   ]
  },
  {
   "cell_type": "code",
   "execution_count": null,
   "id": "1d35f36a",
   "metadata": {},
   "outputs": [],
   "source": [
    "print('Accuracy:', sum(vorhersage == y_bined) /len(y_bined))"
   ]
  },
  {
   "cell_type": "markdown",
   "id": "12d74e50",
   "metadata": {},
   "source": [
    "## Gesamtmittelwert als threshold"
   ]
  },
  {
   "cell_type": "code",
   "execution_count": null,
   "id": "bd789d38",
   "metadata": {},
   "outputs": [],
   "source": [
    "middle = pd.Series(dt.mean(), name='middle')\n",
    "middle = middle.drop('final_result')"
   ]
  },
  {
   "cell_type": "code",
   "execution_count": null,
   "id": "283ab327",
   "metadata": {},
   "outputs": [],
   "source": [
    "fig, axs = plt.subplots(figsize=(12,4))\n",
    "middle.plot(ax=axs)\n",
    "#pd.DataFrame(km.cluster_centers_).transpose().plot(ax=axs, c='magenta',legend=False)"
   ]
  },
  {
   "cell_type": "code",
   "execution_count": null,
   "id": "60fd3e99",
   "metadata": {},
   "outputs": [],
   "source": [
    "auswertung = np.array([])\n",
    "delta = 0\n",
    "for index, row in X_oE.iterrows():\n",
    "    if (row - (middle + delta)).sum() < 0:\n",
    "        auswertung = np.append(auswertung, 'neg')\n",
    "    else:\n",
    "        auswertung = np.append(auswertung, 'pos')"
   ]
  },
  {
   "cell_type": "code",
   "execution_count": null,
   "id": "86822dd8",
   "metadata": {},
   "outputs": [],
   "source": [
    "pd.DataFrame(auswertung).value_counts()"
   ]
  },
  {
   "cell_type": "markdown",
   "id": "1ef20c9a",
   "metadata": {},
   "source": [
    "#### Oberhalb der Schwellenkurve (pos)"
   ]
  },
  {
   "cell_type": "code",
   "execution_count": null,
   "id": "525f4151",
   "metadata": {},
   "outputs": [],
   "source": [
    "pd.DataFrame(y_bined[[auswertung == 'pos']]).value_counts()"
   ]
  },
  {
   "cell_type": "markdown",
   "id": "c8c50f0a",
   "metadata": {},
   "source": [
    "#### Unterhalb der Schwellenkurve (neg)"
   ]
  },
  {
   "cell_type": "code",
   "execution_count": null,
   "id": "74a1ffbe",
   "metadata": {},
   "outputs": [],
   "source": [
    "pd.DataFrame(y_bined[[auswertung == 'neg']]).value_counts()"
   ]
  },
  {
   "cell_type": "markdown",
   "id": "78e75b70",
   "metadata": {},
   "source": [
    "### Verschieben des Schwellenwertes"
   ]
  },
  {
   "cell_type": "code",
   "execution_count": null,
   "id": "1e559bab",
   "metadata": {},
   "outputs": [],
   "source": [
    "def middle_threshold(delta = 0):\n",
    "    auswertung = np.array([])\n",
    "    weigth = np.array([])\n",
    "    \n",
    "    for index, row in X_oE.iterrows():\n",
    "        residual = (row - (middle + delta)).sum()\n",
    "        weigth = np.append(weigth, np.abs(residual))\n",
    "        \n",
    "        if residual < 0:\n",
    "            auswertung = np.append(auswertung, 'neg')\n",
    "        else:\n",
    "            auswertung = np.append(auswertung, 'pos')\n",
    "           \n",
    "    return {'stat': pd.DataFrame(y_bined[[auswertung == 'pos']]).value_counts(), 'weight': weigth}"
   ]
  },
  {
   "cell_type": "markdown",
   "id": "15440e67",
   "metadata": {},
   "source": [
    "Notenverteilung im betrachteten Datensatz:"
   ]
  },
  {
   "cell_type": "code",
   "execution_count": null,
   "id": "99ecd851",
   "metadata": {},
   "outputs": [],
   "source": [
    "pd.DataFrame(y_bined).value_counts()"
   ]
  },
  {
   "cell_type": "markdown",
   "id": "f5d098f1",
   "metadata": {},
   "source": [
    "#### Verschieben der Schwellenwertkurve um +50 Mausklicks"
   ]
  },
  {
   "cell_type": "code",
   "execution_count": null,
   "id": "6e59de5d",
   "metadata": {},
   "outputs": [],
   "source": [
    "erg = middle_threshold(50)"
   ]
  },
  {
   "cell_type": "code",
   "execution_count": null,
   "id": "276f7a97",
   "metadata": {},
   "outputs": [],
   "source": [
    "list(erg.values())[0]"
   ]
  },
  {
   "cell_type": "markdown",
   "id": "c1ea3010",
   "metadata": {},
   "source": [
    "#### Verschieben der Schwellenwertkurve um +100 Mausklicks"
   ]
  },
  {
   "cell_type": "code",
   "execution_count": null,
   "id": "d478d89a",
   "metadata": {},
   "outputs": [],
   "source": [
    "erg = middle_threshold(100)\n",
    "list(erg.values())[0]"
   ]
  },
  {
   "cell_type": "markdown",
   "id": "d63b8863",
   "metadata": {},
   "source": [
    "#### Verschieben der Schwellenwertkurve um -50 Mausklicks"
   ]
  },
  {
   "cell_type": "code",
   "execution_count": null,
   "id": "10079dfa",
   "metadata": {},
   "outputs": [],
   "source": [
    "erg = middle_threshold(-50)\n",
    "list(erg.values())[0]"
   ]
  },
  {
   "cell_type": "markdown",
   "id": "d95f7ef8",
   "metadata": {},
   "source": [
    "Die alternativen Ansätze führen zu keinen Verbesserungen."
   ]
  },
  {
   "cell_type": "code",
   "execution_count": null,
   "id": "b0a693e9",
   "metadata": {},
   "outputs": [],
   "source": [
    "# print('A:', np.array(list(erg.values())[1])[y_bined == 'A'].sum())\n",
    "# print('B:', np.array(list(erg.values())[1])[y_bined == 'B'].sum())\n",
    "# print('C:', np.array(list(erg.values())[1])[y_bined == 'C'].sum())\n",
    "# print('F:', np.array(list(erg.values())[1])[y_bined == 'F'].sum())"
   ]
  },
  {
   "cell_type": "markdown",
   "id": "7b57eba9",
   "metadata": {},
   "source": [
    "## k-Means"
   ]
  },
  {
   "cell_type": "code",
   "execution_count": null,
   "id": "eed170ab",
   "metadata": {},
   "outputs": [],
   "source": [
    "from sklearn.cluster import KMeans"
   ]
  },
  {
   "cell_type": "code",
   "execution_count": null,
   "id": "0f4fabfb",
   "metadata": {},
   "outputs": [],
   "source": [
    "fehler = []\n",
    "K = range(1, 20)\n",
    "for k in K:\n",
    "    km = KMeans(n_clusters=k, random_state=1971)\n",
    "    km.fit(X_oE)\n",
    "    fehler.append(km.inertia_)\n",
    "\n",
    "fig, axs = plt.subplots(figsize=(16,8))\n",
    "plt.plot(K, fehler, 'bx-')\n"
   ]
  },
  {
   "cell_type": "code",
   "execution_count": null,
   "id": "1ee7a3e1",
   "metadata": {},
   "outputs": [],
   "source": [
    "km = KMeans(n_clusters=4, random_state=1971).fit(X_oE)"
   ]
  },
  {
   "cell_type": "markdown",
   "id": "d8b460f4",
   "metadata": {},
   "source": [
    "#### Links Mittelwertkurven. Rechts gebildete Cluster."
   ]
  },
  {
   "cell_type": "code",
   "execution_count": null,
   "id": "32e477c6",
   "metadata": {},
   "outputs": [],
   "source": [
    "fig, axs = plt.subplots(1,2,figsize=(12,4))\n",
    "middleCurves.plot(color={'A':'green','B':'blue','C':'orange','Fail':'red'}, ax=axs[0])\n",
    "pd.DataFrame(km.cluster_centers_).transpose().plot(ax=axs[1])\n",
    "axs[0].set_ylim([0, 500])\n",
    "axs[1].set_ylim([0, 500])"
   ]
  },
  {
   "cell_type": "code",
   "execution_count": null,
   "id": "7771f1ea",
   "metadata": {},
   "outputs": [],
   "source": [
    "from dtw import *"
   ]
  },
  {
   "cell_type": "code",
   "execution_count": null,
   "id": "bb344161",
   "metadata": {},
   "outputs": [],
   "source": [
    "dtw(X_allelog.iloc[0], X_allelog.iloc[1], keep_internals=True, window_type=\"sakoechiba\", window_args={'window_size':3},\n",
    "    step_pattern=symmetricP1).plot(type=\"twoway\", offset=-2)\n",
    "plt.show()"
   ]
  },
  {
   "cell_type": "code",
   "execution_count": null,
   "id": "0ddf9fb8",
   "metadata": {},
   "outputs": [],
   "source": [
    "from fastdtw import fastdtw"
   ]
  },
  {
   "cell_type": "code",
   "execution_count": null,
   "id": "32b3f233",
   "metadata": {},
   "outputs": [],
   "source": [
    "x1 = X_allelog.iloc[0]\n",
    "x2 = X_allelog.iloc[2] "
   ]
  },
  {
   "cell_type": "code",
   "execution_count": null,
   "id": "c204bd7d",
   "metadata": {},
   "outputs": [],
   "source": [
    "distance, matches = fastdtw(x1, x2)"
   ]
  },
  {
   "cell_type": "code",
   "execution_count": null,
   "id": "ee55025b",
   "metadata": {},
   "outputs": [],
   "source": [
    "# DTW\n",
    "\n",
    "#import matplotlib.pyplot as plt\n",
    "fig, axs = plt.subplots(figsize=(12,4))\n",
    "#plot signals\n",
    "plt.plot(x1, label = 'Sequenz 1')\n",
    "plt.plot(x2, label = 'Sequenz 2')\n",
    "#plot alignment\n",
    "for i, j in matches:\n",
    "    plt.plot((i, j), (x1[i], x2[j]), color = 'black', linestyle='dashed', linewidth=0.5)\n",
    "\n",
    "axs.get_xaxis().set_visible(False)\n",
    "axs.get_yaxis().set_visible(False)\n",
    "axs.axis('off')\n",
    "axs.legend()\n",
    "plt.show()"
   ]
  },
  {
   "cell_type": "code",
   "execution_count": null,
   "id": "027ee5f5",
   "metadata": {},
   "outputs": [],
   "source": [
    "## Euklidische Distanz\n",
    "\n",
    "matches = [[i,i] for i in range(0,12)]\n",
    "#import matplotlib.pyplot as plt\n",
    "fig, axs = plt.subplots(figsize=(12,4))\n",
    "#plot signals\n",
    "plt.plot(x1, label = 'Sequenz 1')\n",
    "plt.plot(x2, label = 'Sequenz 2')\n",
    "#plot alignment\n",
    "for i, j in matches:\n",
    "    plt.plot((i, j), (x1[i], x2[j]), color = 'black', linestyle='dashed', linewidth=0.5)\n",
    "\n",
    "axs.get_xaxis().set_visible(False)\n",
    "axs.get_yaxis().set_visible(False)\n",
    "axs.axis('off')\n",
    "axs.legend()\n",
    "plt.show()"
   ]
  },
  {
   "cell_type": "code",
   "execution_count": null,
   "id": "839d15f7",
   "metadata": {},
   "outputs": [],
   "source": [
    "x1 = X_allelog.iloc[X_allelog.index == X_allelog.sum(1).idxmax()].iloc[0]"
   ]
  },
  {
   "cell_type": "code",
   "execution_count": null,
   "id": "e4cd5351",
   "metadata": {},
   "outputs": [],
   "source": [
    "x2 = X_allelog.iloc[0]"
   ]
  },
  {
   "cell_type": "code",
   "execution_count": null,
   "id": "29279d00",
   "metadata": {},
   "outputs": [],
   "source": [
    "## Euklidische Distanz\n",
    "\n",
    "matches = [[i,i] for i in range(0,12)]\n",
    "#import matplotlib.pyplot as plt\n",
    "fig, axs = plt.subplots(figsize=(12,4))\n",
    "#plot signals\n",
    "plt.plot(x1, label = 'Sequenz 1')\n",
    "plt.plot(x2, label = 'Sequenz 2')\n",
    "#plot alignment\n",
    "for i, j in matches:\n",
    "    plt.plot((i, j), (x1[i], x2[j]), color = 'black', linestyle='dashed', linewidth=0.5)\n",
    "\n",
    "axs.get_xaxis().set_visible(False)\n",
    "axs.get_yaxis().set_visible(False)\n",
    "axs.axis('off')\n",
    "axs.legend()\n",
    "plt.show()"
   ]
  },
  {
   "cell_type": "code",
   "execution_count": null,
   "id": "0433f300",
   "metadata": {},
   "outputs": [],
   "source": [
    "1/6"
   ]
  }
 ],
 "metadata": {
  "kernelspec": {
   "display_name": "Python 3 (ipykernel)",
   "language": "python",
   "name": "python3"
  },
  "language_info": {
   "codemirror_mode": {
    "name": "ipython",
    "version": 3
   },
   "file_extension": ".py",
   "mimetype": "text/x-python",
   "name": "python",
   "nbconvert_exporter": "python",
   "pygments_lexer": "ipython3",
   "version": "3.10.7"
  }
 },
 "nbformat": 4,
 "nbformat_minor": 5
}
