{
 "cells": [
  {
   "cell_type": "markdown",
   "id": "61754da8",
   "metadata": {},
   "source": [
    "# Course Section K1. Daycurve 1-NN Classification with 10-fold CV"
   ]
  },
  {
   "cell_type": "code",
   "execution_count": null,
   "id": "5141269c",
   "metadata": {},
   "outputs": [],
   "source": [
    "import time\n",
    "import numpy as np\n",
    "import pandas as pd\n",
    "import matplotlib.pyplot as plt\n",
    "from dtaidistance.dtw import distance as dtw_dist\n",
    "\n",
    "# Filtering warnings\n",
    "import warnings\n",
    "warnings.filterwarnings('ignore')\n",
    "warnings.simplefilter(action='ignore', category=FutureWarning)\n",
    "\n",
    "from sklearn.neighbors import KNeighborsClassifier\n",
    "from sklearn.model_selection import cross_val_score\n",
    "from sklearn.preprocessing import MinMaxScaler\n",
    "from sklearn.model_selection import cross_validate\n",
    "%matplotlib inline"
   ]
  },
  {
   "cell_type": "code",
   "execution_count": null,
   "id": "2140ce1a",
   "metadata": {},
   "outputs": [],
   "source": [
    "import Fred as fred\n",
    "import math\n",
    "\n",
    "# Create own Distance Measures and import from Fred-Frechet\n",
    "\n",
    "# Discrete Frechet\n",
    "def disc_frechet(x, y):\n",
    "    a = fred.Curve(x)\n",
    "    b = fred.Curve(y)\n",
    "    dist = fred.discrete_frechet(a, b)\n",
    "    return dist.value\n",
    "\n",
    "# Discrete Dynamic Time Warping\n",
    "def disc_dtw(x, y):\n",
    "    a = fred.Curve(x)\n",
    "    b = fred.Curve(y)\n",
    "    dist = fred.discrete_dynamic_time_warping(a, b)\n",
    "    return dist.value\n",
    "\n",
    "# Discrete Dynamic Time Warping with traversal constraint\n",
    "def window_dtw(x, y, w=4):\n",
    "    n = len(x)\n",
    "    m = len(y)\n",
    "\n",
    "    # maximal possible windowsize\n",
    "    w = max(w, abs(n-m))\n",
    "\n",
    "    # distancematrix filled with infinity\n",
    "    dtw = np.full((n, m), math.inf)\n",
    "    dtw[0, 0] = 0\n",
    "\n",
    "    # all possible paths filled with zeros\n",
    "    for i in range(1, n):\n",
    "        for j in range(max(1, i-w), min(m, i+w)):\n",
    "            cost = (x[i] - y[j])**2\n",
    "            dtw[i, j] = cost + min(dtw[i-1, j],\n",
    "                                   dtw[i, j-1],\n",
    "                                   dtw[i-1, j-1])\n",
    "\n",
    "    return math.sqrt(dtw[n-1, m-1])\n",
    "\n",
    "# Discrete Frechet with traversal constraint\n",
    "def window_disc_frechet(x, y, w=4):\n",
    "    n = len(x)\n",
    "    m = len(y)\n",
    "\n",
    "    # maximal possible windowsize\n",
    "    w = max(w, abs(n-m))\n",
    "\n",
    "    # distancematrix filled with infinity\n",
    "    dfre = np.full((n, m), math.inf)\n",
    "    dfre[0, 0] = 0\n",
    "\n",
    "    # all possible paths filled with zeros\n",
    "    for i in range(1, n):\n",
    "        for j in range(max(1, i-w), min(m, i+w)):\n",
    "            cost = (x[i] - y[j])**2\n",
    "            dfre[i, j] = max(cost, min(dfre[i-1, j],\n",
    "                                       dfre[i, j-1],\n",
    "                                       dfre[i-1, j-1]))\n",
    "\n",
    "    return math.sqrt(dfre[n-1, m-1])\n",
    "\n",
    "def window_df(x, y, w=4, p=2):\n",
    "    n = len(x) \n",
    "    m = len(y) \n",
    "\n",
    "    # maximal possible windowsize\n",
    "    w = max(w, abs(n-m))\n",
    "\n",
    "    # distancematrix filled with infinity\n",
    "    dtw = np.full((n, m), math.inf)\n",
    "    dtw[0, 0] = 0\n",
    "    \n",
    "    for i in range(0,n):\n",
    "        for j in range(max(0, i-w), min(m, i+w)):\n",
    "            dtw[i, j] = 0\n",
    "    \n",
    "    \n",
    "    # all possible paths filled with zeros\n",
    "    for i in range(n):\n",
    "        for j in range(max(0, i-w), min(m, i+w)):\n",
    "            dtw[i,j] = abs(x[i] - y[j]) ** p\n",
    "            if i > 0 or j > 0:\n",
    "                dtw[i, j] = max(dtw[i,j], min(dtw[i-1, j] if i > 0 else math.inf,\n",
    "                                              dtw[i, j-1] if j > 0 else math.inf,\n",
    "                                              dtw[i-1, j-1] if (i > 0 and j > 0) else math.inf\n",
    "                                             )\n",
    "                               )\n",
    "     \n",
    "    return (dtw[n-1, m-1]) ** (1/p)\n",
    "\n",
    "# k-greatest-distances-Mahnhattandistanz\n",
    "def k_greatest_manhattan(x, y, w=6):\n",
    "    dists = np.abs(x - y)\n",
    "    return np.sum(np.sort(dists)[-w:][::-1])\n",
    "\n",
    "# Earth mover's distance\n",
    "from scipy.stats import wasserstein_distance\n",
    "\n",
    "def emd(u, v):\n",
    "    # create bin-vectors\n",
    "    bin_u = [i for i in range(0, len(u))]\n",
    "    bin_v = [i for i in range(0, len(v))]\n",
    "    \n",
    "    # normalize input vectors to unit-vectors\n",
    "    u_norm = u / np.linalg.norm(u, ord=1)\n",
    "    v_norm = v / np.linalg.norm(v, ord=1)\n",
    "    \n",
    "    return wasserstein_distance(bin_u, bin_v, u_norm, v_norm)\n",
    "\n",
    "def dtw_ai(x, y, w=None):\n",
    "    return dtw_dist(x, y, window=w, use_c=True)"
   ]
  },
  {
   "cell_type": "code",
   "execution_count": null,
   "id": "9601e055",
   "metadata": {},
   "outputs": [],
   "source": [
    "ofEx = pd.read_csv(\"\") # Dateinamen einfügen"
   ]
  },
  {
   "cell_type": "code",
   "execution_count": null,
   "id": "abfcff4a",
   "metadata": {},
   "outputs": [],
   "source": [
    "# -97 rausschmeissen\n",
    "ofEx = ofEx.drop(ofEx[ofEx.final_result < 0].index)"
   ]
  },
  {
   "cell_type": "code",
   "execution_count": null,
   "id": "24c9f2bd",
   "metadata": {},
   "outputs": [],
   "source": [
    "y = ofEx['final_result']\n",
    "X = ofEx.drop(['id', 'final_result'], axis=1)"
   ]
  },
  {
   "cell_type": "code",
   "execution_count": null,
   "id": "975cba46",
   "metadata": {},
   "outputs": [],
   "source": [
    "X.head()"
   ]
  },
  {
   "cell_type": "markdown",
   "id": "01b7b2a3",
   "metadata": {},
   "source": [
    "## A vs. C bis F"
   ]
  },
  {
   "cell_type": "code",
   "execution_count": null,
   "id": "4f40ff35",
   "metadata": {},
   "outputs": [],
   "source": [
    "X = X.drop(X[(y > 6) & (y < 10)].index)\n",
    "y = y[X.index]"
   ]
  },
  {
   "cell_type": "code",
   "execution_count": null,
   "id": "1e6d5cfc",
   "metadata": {},
   "outputs": [],
   "source": [
    "X.head()"
   ]
  },
  {
   "cell_type": "code",
   "execution_count": null,
   "id": "1aa3696d",
   "metadata": {},
   "outputs": [],
   "source": [
    "len(X)"
   ]
  },
  {
   "cell_type": "code",
   "execution_count": null,
   "id": "95bc3d3e",
   "metadata": {},
   "outputs": [],
   "source": [
    "len(y)"
   ]
  },
  {
   "cell_type": "code",
   "execution_count": null,
   "id": "d2044450",
   "metadata": {},
   "outputs": [],
   "source": [
    "# Logarithmieren\n",
    "X_l = np.log1p(X) "
   ]
  },
  {
   "cell_type": "code",
   "execution_count": null,
   "id": "9a8bb78d",
   "metadata": {},
   "outputs": [],
   "source": [
    "# Zu binärem Problem machen\n",
    "y[y < 10] = 0\n",
    "y[y > 0] = 1"
   ]
  },
  {
   "cell_type": "code",
   "execution_count": null,
   "id": "786b7d1e",
   "metadata": {},
   "outputs": [],
   "source": [
    "y.value_counts()"
   ]
  },
  {
   "cell_type": "markdown",
   "id": "1ece38fc",
   "metadata": {},
   "source": [
    "Klassifikation für alle Distanzen"
   ]
  },
  {
   "cell_type": "code",
   "execution_count": null,
   "id": "40aa2c82",
   "metadata": {},
   "outputs": [],
   "source": [
    "distances = {'Manhattan':'cityblock', 'Euclidean': 'euclidean', 'Maximum': 'chebyshev',\n",
    "             'DF': disc_frechet, 'DTW': dtw_ai, 'WDF': window_df, 'WDTW': window_dtw,\n",
    "             'k_g_Manhattan': k_greatest_manhattan, 'EMD': emd\n",
    "                     }\n",
    "nachbar = 1\n",
    "scoring = ['accuracy', 'roc_auc', 'precision', 'recall', 'f1']\n",
    "\n",
    "df = pd.DataFrame(columns = ['distance', 'accuracy', 'roc_auc', 'precision', 'recall', 'f1'], \n",
    "                  index = [0,1,2,3,4,5,6,7,8])\n",
    " \n",
    "df['distance'] = distances\n",
    "\n",
    "row = 0\n",
    "for key, dist in distances.items():\n",
    "    knn = KNeighborsClassifier(n_neighbors=nachbar, metric=dist)\n",
    "    scores = cross_validate(knn, X_l, y, scoring=scoring, n_jobs=-1,\n",
    "                            cv=10, return_train_score=True)\n",
    "    score = [key, np.mean(scores['test_accuracy']), np.mean(scores['test_roc_auc']), \n",
    "             np.mean(scores['test_precision']), np.mean(scores['test_recall']), \n",
    "             np.mean(scores['test_f1'])]\n",
    "\n",
    "    df.loc[row, 0:] = score\n",
    "\n",
    "    row = row + 1\n",
    "\n",
    "print(df.to_latex(index=False))\n",
    "df\n"
   ]
  },
  {
   "cell_type": "markdown",
   "id": "2941c3fb",
   "metadata": {},
   "source": [
    "Bester Fensterparameter w-DTW"
   ]
  },
  {
   "cell_type": "code",
   "execution_count": null,
   "id": "95286ea3",
   "metadata": {},
   "outputs": [],
   "source": [
    "start = time.time()\n",
    "\n",
    "df = pd.DataFrame(columns = ['window', 'accuracy', 'roc_auc', 'precision', 'recall', 'f1'], \n",
    "                  index = [0,1,2,3,4,5,6,7,8,9,10,11])\n",
    " \n",
    "df['window'] = [0,1,2,3,4,5,6,7,8,9,10,11]\n",
    "scoring = ['accuracy', 'roc_auc', 'precision', 'recall', 'f1']\n",
    "\n",
    "for i in range(0,81):\n",
    "    knn = KNeighborsClassifier(n_neighbors=nachbar, metric=dtw_ai, metric_params={'w': i})\n",
    "    scores = cross_validate(knn, X_l, y, scoring=scoring, n_jobs=-1,\n",
    "                            cv=10, return_train_score=True)\n",
    "    score = [i,np.mean(scores['test_accuracy']), np.mean(scores['test_roc_auc']), \n",
    "             np.mean(scores['test_precision']), np.mean(scores['test_recall']), \n",
    "             np.mean(scores['test_f1'])]\n",
    "    #df.loc[i, 0:] = score\n",
    "    print(score)\n",
    "\n",
    "print('WDTW')\n",
    "#print(df.to_latex(index=False))\n",
    "#df\n",
    "\n",
    "end = time.time()\n",
    "total = end - start\n",
    "print(total)"
   ]
  },
  {
   "cell_type": "markdown",
   "id": "72716e9c",
   "metadata": {},
   "source": [
    "Bester Fensterparameter DFD in groben Schritten (irrsinnig langsam)"
   ]
  },
  {
   "cell_type": "code",
   "execution_count": null,
   "id": "f40fd45c",
   "metadata": {},
   "outputs": [],
   "source": [
    "start = time.time()\n",
    "\n",
    "df = pd.DataFrame(columns = ['window', 'accuracy', 'roc_auc', 'precision', 'recall', 'f1'], \n",
    "                  index = [0,1,2,3,4,5,6,7,8,9,10,11])\n",
    " \n",
    "df['window'] = [0,1,2,3,4,5,6,7,8,9,10,25,50,70]\n",
    "scoring = ['accuracy', 'roc_auc', 'precision', 'recall', 'f1']\n",
    "\n",
    "for i in range(0,12):\n",
    "    knn = KNeighborsClassifier(n_neighbors=nachbar, metric=window_df, metric_params={'w': i})\n",
    "    scores = cross_validate(knn, X_l, y, scoring=scoring, n_jobs=-1,\n",
    "                            cv=10, return_train_score=True)\n",
    "    score = [i,np.mean(scores['test_accuracy']), np.mean(scores['test_roc_auc']), \n",
    "             np.mean(scores['test_precision']), np.mean(scores['test_recall']), \n",
    "             np.mean(scores['test_f1'])]\n",
    "    df.loc[i, 0:] = score\n",
    "\n",
    "print('WDF')\n",
    "#print(df.to_latex(index=False))\n",
    "#df\n",
    "\n",
    "end = time.time()\n",
    "total = end - start\n",
    "print(total)"
   ]
  },
  {
   "cell_type": "markdown",
   "id": "edb8a433",
   "metadata": {},
   "source": [
    "Bestes k für k-größte Knotendistanzen"
   ]
  },
  {
   "cell_type": "code",
   "execution_count": null,
   "id": "73bfc2de",
   "metadata": {},
   "outputs": [],
   "source": [
    "start = time.time()\n",
    "\n",
    "nachbar=1\n",
    "df = pd.DataFrame(columns = ['window', 'accuracy', 'roc_auc', 'precision', 'recall', 'f1'], \n",
    "                  index = [0,1,2,3,4,5,6,7,8,9,10,11])\n",
    " \n",
    "df['window'] = [0,1,2,3,4,5,6,7,8,9,10,11]\n",
    "scoring = ['accuracy', 'roc_auc', 'precision', 'recall', 'f1']\n",
    "\n",
    "for i in range(0,81):\n",
    "    knn = KNeighborsClassifier(n_neighbors=nachbar,metric=k_greatest_manhattan, metric_params={'w':i})\n",
    "    scores = cross_validate(knn, X_l, y, scoring=scoring, n_jobs=-1,\n",
    "                            cv=5, return_train_score=True)\n",
    "    score = [i,np.mean(scores['test_accuracy']), np.mean(scores['test_roc_auc']), \n",
    "             np.mean(scores['test_precision']), np.mean(scores['test_recall']), \n",
    "             np.mean(scores['test_f1'])]\n",
    "    #df.loc[i, 0:] = score\n",
    "    print(score)\n",
    "\n",
    "print('kgMan')\n",
    "print(df.to_latex(index=False))\n",
    "df  \n",
    "\n",
    "end = time.time()\n",
    "total = end - start\n",
    "print(total)"
   ]
  }
 ],
 "metadata": {
  "kernelspec": {
   "display_name": "Python 3 (ipykernel)",
   "language": "python",
   "name": "python3"
  },
  "language_info": {
   "codemirror_mode": {
    "name": "ipython",
    "version": 3
   },
   "file_extension": ".py",
   "mimetype": "text/x-python",
   "name": "python",
   "nbconvert_exporter": "python",
   "pygments_lexer": "ipython3",
   "version": "3.10.7"
  }
 },
 "nbformat": 4,
 "nbformat_minor": 5
}
