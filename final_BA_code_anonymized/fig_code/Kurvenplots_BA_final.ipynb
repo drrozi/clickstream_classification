{
 "cells": [
  {
   "cell_type": "markdown",
   "id": "61754da8",
   "metadata": {},
   "source": [
    "# Kurvenplots"
   ]
  },
  {
   "cell_type": "code",
   "execution_count": null,
   "id": "5141269c",
   "metadata": {},
   "outputs": [],
   "source": [
    "import numpy as np\n",
    "import pandas as pd\n",
    "import matplotlib.pyplot as plt\n",
    "\n",
    "%matplotlib inline"
   ]
  },
  {
   "cell_type": "markdown",
   "id": "0a95a493",
   "metadata": {},
   "source": [
    "### Mausklicks ohne Tag des finalen Examens"
   ]
  },
  {
   "cell_type": "markdown",
   "id": "55c4fe82",
   "metadata": {},
   "source": [
    "Polygonkurven-Plots aller vier Kurssektionen"
   ]
  },
  {
   "cell_type": "markdown",
   "id": "819d99cc",
   "metadata": {},
   "source": [
    "Dateien einlesen und vorverarbeiten. Nur Notengruppen A und C--F interessieren hier:"
   ]
  },
  {
   "cell_type": "code",
   "execution_count": null,
   "id": "9752dc1d",
   "metadata": {},
   "outputs": [],
   "source": [
    "## K1\n",
    "k1 = pd.read_csv(\"\")\n",
    "# -97 rausschmeissen\n",
    "k1 = k1.drop(k1[k1.final_result < 0].index)\n",
    "y_k1 = k1['final_result']\n",
    "X_k1 = k1.drop(['id', 'final_result', 'fem', 'fg', 'urm'], axis=1)\n",
    "## nur A und C-F behalten\n",
    "X_k1 = X_k1.drop(X_k1[(y_k1 > 6) & (y_k1 < 10)].index)\n",
    "\n",
    "## K2\n",
    "k2 = pd.read_csv(\"\")\n",
    "# -97 rausschmeissen\n",
    "k2 = k2.drop(k2[k2.final_result < 0].index)\n",
    "y_k2 = k2['final_result']\n",
    "X_k2 = k2.drop(['id', 'final_result', 'fem', 'fg', 'urm'], axis=1)\n",
    "## nur A und C-F behalten\n",
    "X_k2 = X_k2.drop(X_k2[(y_k2 > 6) & (y_k2 < 10)].index)\n",
    "\n",
    "## K3\n",
    "k3 = pd.read_csv(\"\")\n",
    "# -97 rausschmeissen\n",
    "k3 = k3.drop(k3[k3.final_result < 0].index)\n",
    "y_k3 = k3['final_result']\n",
    "X_k3 = k3.drop(['id', 'final_result', 'fem', 'fg', 'urm'], axis=1)\n",
    "## nur A und C-F behalten\n",
    "X_k3 = X_k3.drop(X_k3[(y_k3 > 6) & (y_k3 < 11)].index)\n",
    "\n",
    "## K4\n",
    "k4 = pd.read_csv(\"\")\n",
    "# -97 rausschmeissen\n",
    "k4 = k4.drop(k4[k4.final_result < 0].index)\n",
    "y_k4 = k4['final_result']\n",
    "X_k4 = k4.drop(['id', 'final_result', 'fem', 'fg', 'urm'], axis=1)\n",
    "## nur A und C-F behalten\n",
    "X_k4 = X_k4.drop(X_k4[(y_k4 > 6) & (y_k4 < 11)].index)"
   ]
  },
  {
   "cell_type": "markdown",
   "id": "df9dcb6a",
   "metadata": {},
   "source": [
    "Logarithmierten der Mausklicks \\ln(x+1)"
   ]
  },
  {
   "cell_type": "code",
   "execution_count": null,
   "id": "ac53b475",
   "metadata": {},
   "outputs": [],
   "source": [
    "X_k1 = np.log1p(X_k1)\n",
    "X_k2 = np.log1p(X_k2)\n",
    "X_k3 = np.log1p(X_k3)\n",
    "X_k4 = np.log1p(X_k4)"
   ]
  },
  {
   "cell_type": "markdown",
   "id": "2ae30d22",
   "metadata": {},
   "source": [
    "Pandas-Plot aller Kurven der entsprechenden Notengruppen"
   ]
  },
  {
   "cell_type": "code",
   "execution_count": null,
   "id": "0ecb61a6",
   "metadata": {},
   "outputs": [],
   "source": [
    "fig, axs = plt.subplots(4, 1, figsize=(8,6))\n",
    "fig.tight_layout(h_pad=1)\n",
    "\n",
    "X_k1[y_k1 > 9].transpose().plot(legend=False,  ax=axs[0], c='g', alpha=1,  \n",
    "                               )\n",
    "X_k1[y_k1 < 9].transpose().plot(legend=False, c='r',  ax=axs[0], alpha=0.2)\n",
    "axs[0].set_ylim([0, 7.5])\n",
    "axs[0].set_yticks([0,2,4,6])\n",
    "axs[0].set_title('K1')\n",
    "axs[0].set_xticks([0, 1,2,3,4,5,6,7,8,9,10,11])\n",
    "axs[0].get_xaxis().set_ticklabels([])\n",
    "axs[0].margins(x=0)\n",
    "\n",
    "X_k2[y_k2 > 9].transpose().plot(legend=False, ax=axs[1], c='g', alpha=1)\n",
    "X_k2[y_k2 < 9].transpose().plot(legend=False, ax=axs[1], c='r', alpha=0.2)\n",
    "axs[1].set_title('K2')\n",
    "axs[1].set_ylim([0, 7.5])\n",
    "axs[1].set_yticks([0,2,4,6])\n",
    "axs[1].set_xticks([0,1,2,3,4,5,6,7,8,9,10,11])\n",
    "axs[1].get_xaxis().set_ticklabels([])\n",
    "axs[1].margins(x=0)\n",
    "\n",
    "X_k3[y_k3 > 9].transpose().plot(legend=False, ax=axs[2], c='g', alpha=1)\n",
    "X_k3[y_k3 < 9].transpose().plot(legend=False, ax=axs[2], c='r', alpha=0.2)\n",
    "axs[2].set_title('K3')\n",
    "axs[2].set_ylim([0, 7.5])\n",
    "axs[2].set_yticks([0,2,4,6])\n",
    "axs[2].set_xticks([0, 1,2,3,4,5,6,7,8,9,10,11])\n",
    "axs[2].get_xaxis().set_ticklabels([])\n",
    "axs[2].margins(x=0)\n",
    "\n",
    "X_k4[y_k4 > 9].transpose().plot(legend=False, ax=axs[3], c='g', alpha=1)\n",
    "X_k4[y_k4 < 9].transpose().plot(legend=False, ax=axs[3], c='r', alpha=0.2)\n",
    "axs[3].set_title('K4')\n",
    "axs[3].set_ylim([0, 7.5])\n",
    "axs[3].set_yticks([0,2,4,6])\n",
    "axs[3].set_xticks([0, 1,2,3,4,5,6,7,8,9,10,11])\n",
    "axs[3].set_xticklabels(['1','2','3','4','5','6','7','8','9','10','11','12'])\n",
    "axs[3].margins(x=0)\n",
    "\n",
    "fig.add_subplot(111, frameon=False)\n",
    "plt.tick_params(labelcolor='none', which='both', top=False, bottom=False, left=False, right=False)\n",
    "plt.xlabel(\"Kurswochen\", size=16)\n",
    "plt.ylabel(\"Logarithmierte Anzahl Mausklicks\", size=16)\n",
    "\n",
    "plt.show()\n",
    "# fig.savefig('/your_dir/figures/curves.pdf',\n",
    "#             bbox_inches='tight')"
   ]
  }
 ],
 "metadata": {
  "kernelspec": {
   "display_name": "Python 3 (ipykernel)",
   "language": "python",
   "name": "python3"
  },
  "language_info": {
   "codemirror_mode": {
    "name": "ipython",
    "version": 3
   },
   "file_extension": ".py",
   "mimetype": "text/x-python",
   "name": "python",
   "nbconvert_exporter": "python",
   "pygments_lexer": "ipython3",
   "version": "3.10.7"
  }
 },
 "nbformat": 4,
 "nbformat_minor": 5
}
